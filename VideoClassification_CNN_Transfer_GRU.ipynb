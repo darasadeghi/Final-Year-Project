{
  "cells": [
    {
      "cell_type": "markdown",
      "metadata": {
        "id": "VYqHbYTHCo0m"
      },
      "source": [
        "# Imports"
      ]
    },
    {
      "cell_type": "code",
      "execution_count": null,
      "metadata": {
        "colab": {
          "base_uri": "https://localhost:8080/"
        },
        "id": "LJYLR9Xf6oa8",
        "outputId": "8abf9019-709e-4e58-d179-413856a4dd2d"
      },
      "outputs": [
        {
          "name": "stdout",
          "output_type": "stream",
          "text": [
            "  Building wheel for tensorflow-docs (setup.py) ... \u001b[?25l\u001b[?25hdone\n"
          ]
        }
      ],
      "source": [
        "!pip install -q git+https://github.com/tensorflow/docs"
      ]
    },
    {
      "cell_type": "code",
      "execution_count": null,
      "metadata": {
        "colab": {
          "base_uri": "https://localhost:8080/"
        },
        "id": "JqS3Dm6w7GBj",
        "outputId": "8366c8bc-a4bc-4bdd-f396-a03519def275"
      },
      "outputs": [
        {
          "name": "stdout",
          "output_type": "stream",
          "text": [
            "Mounted at /content/gdrive\n"
          ]
        }
      ],
      "source": [
        "#from google.colab import drive\n",
        "#drive.mount('/content/gdrive')"
      ]
    },
    {
      "cell_type": "code",
      "execution_count": null,
      "metadata": {
        "id": "MUaH3f_07Zo7"
      },
      "outputs": [],
      "source": [
        "from tensorflow_docs.vis import embed\n",
        "from tensorflow import keras\n",
        "from imutils import paths\n",
        "\n",
        "import matplotlib.pyplot as plt\n",
        "import tensorflow as tf\n",
        "import pandas as pd\n",
        "import numpy as np\n",
        "import imageio\n",
        "import cv2\n",
        "import os"
      ]
    },
    {
      "cell_type": "code",
      "execution_count": null,
      "metadata": {
        "id": "LKxPBhw971ll"
      },
      "outputs": [],
      "source": [
        "IMG_SIZE = 224\n",
        "BATCH_SIZE = 64\n",
        "EPOCHS = 10\n",
        "\n",
        "MAX_SEQ_LENGTH = 20\n",
        "NUM_FEATURES = 1408"
      ]
    },
    {
      "cell_type": "markdown",
      "metadata": {
        "id": "wUWeWVcrhCLG"
      },
      "source": [
        "# Defining paths"
      ]
    },
    {
      "cell_type": "code",
      "execution_count": null,
      "metadata": {
        "id": "Pu-1fDv08MLz"
      },
      "outputs": [],
      "source": [
        "#trainfilepath = (\"/content/gdrive/MyDrive/DissertationVideosSorted/train.csv\")\n",
        "#testfilepath = (\"/content/gdrive/MyDrive/DissertationVideosSorted/test.csv\")"
      ]
    },
    {
      "cell_type": "code",
      "execution_count": null,
      "metadata": {},
      "outputs": [],
      "source": [
        "trainfilepath = (\"./VideosSorted/train.csv\")\n",
        "testfilepath = (\"./VideosSorted/test.csv\")"
      ]
    },
    {
      "cell_type": "code",
      "execution_count": null,
      "metadata": {
        "colab": {
          "base_uri": "https://localhost:8080/",
          "height": 400
        },
        "id": "m3t_U3Ri75gj",
        "outputId": "794857b1-ebee-44e1-bfc0-aa5bdde86a3c"
      },
      "outputs": [
        {
          "name": "stdout",
          "output_type": "stream",
          "text": [
            "Total videos for training: 735\n",
            "Total videos for testing: 326\n"
          ]
        },
        {
          "data": {
            "text/html": [
              "\n",
              "  <div id=\"df-d324e008-65f2-4696-ac5a-946b6725690a\">\n",
              "    <div class=\"colab-df-container\">\n",
              "      <div>\n",
              "<style scoped>\n",
              "    .dataframe tbody tr th:only-of-type {\n",
              "        vertical-align: middle;\n",
              "    }\n",
              "\n",
              "    .dataframe tbody tr th {\n",
              "        vertical-align: top;\n",
              "    }\n",
              "\n",
              "    .dataframe thead th {\n",
              "        text-align: right;\n",
              "    }\n",
              "</style>\n",
              "<table border=\"1\" class=\"dataframe\">\n",
              "  <thead>\n",
              "    <tr style=\"text-align: right;\">\n",
              "      <th></th>\n",
              "      <th>video_name</th>\n",
              "      <th>tag</th>\n",
              "    </tr>\n",
              "  </thead>\n",
              "  <tbody>\n",
              "    <tr>\n",
              "      <th>1</th>\n",
              "      <td>drowning2.avi</td>\n",
              "      <td>drowning</td>\n",
              "    </tr>\n",
              "    <tr>\n",
              "      <th>474</th>\n",
              "      <td>v_Rafting_g24_c01.avi</td>\n",
              "      <td>rafting</td>\n",
              "    </tr>\n",
              "    <tr>\n",
              "      <th>539</th>\n",
              "      <td>v_Rowing_g14_c03.avi</td>\n",
              "      <td>rowing</td>\n",
              "    </tr>\n",
              "    <tr>\n",
              "      <th>386</th>\n",
              "      <td>v_Kayaking_g20_c01.avi</td>\n",
              "      <td>kayaking</td>\n",
              "    </tr>\n",
              "    <tr>\n",
              "      <th>618</th>\n",
              "      <td>v_Skijet_g15_c02.avi</td>\n",
              "      <td>jetski</td>\n",
              "    </tr>\n",
              "    <tr>\n",
              "      <th>318</th>\n",
              "      <td>v_Kayaking_g03_c02.avi</td>\n",
              "      <td>kayaking</td>\n",
              "    </tr>\n",
              "    <tr>\n",
              "      <th>468</th>\n",
              "      <td>v_Rafting_g21_c02.avi</td>\n",
              "      <td>rafting</td>\n",
              "    </tr>\n",
              "    <tr>\n",
              "      <th>62</th>\n",
              "      <td>v_BreastStroke_g09_c03.avi</td>\n",
              "      <td>breaststroke</td>\n",
              "    </tr>\n",
              "    <tr>\n",
              "      <th>640</th>\n",
              "      <td>v_Skijet_g23_c02.avi</td>\n",
              "      <td>jetski</td>\n",
              "    </tr>\n",
              "    <tr>\n",
              "      <th>266</th>\n",
              "      <td>v_FrontCrawl_g14_c04.avi</td>\n",
              "      <td>frontcrawl</td>\n",
              "    </tr>\n",
              "  </tbody>\n",
              "</table>\n",
              "</div>\n",
              "      <button class=\"colab-df-convert\" onclick=\"convertToInteractive('df-d324e008-65f2-4696-ac5a-946b6725690a')\"\n",
              "              title=\"Convert this dataframe to an interactive table.\"\n",
              "              style=\"display:none;\">\n",
              "        \n",
              "  <svg xmlns=\"http://www.w3.org/2000/svg\" height=\"24px\"viewBox=\"0 0 24 24\"\n",
              "       width=\"24px\">\n",
              "    <path d=\"M0 0h24v24H0V0z\" fill=\"none\"/>\n",
              "    <path d=\"M18.56 5.44l.94 2.06.94-2.06 2.06-.94-2.06-.94-.94-2.06-.94 2.06-2.06.94zm-11 1L8.5 8.5l.94-2.06 2.06-.94-2.06-.94L8.5 2.5l-.94 2.06-2.06.94zm10 10l.94 2.06.94-2.06 2.06-.94-2.06-.94-.94-2.06-.94 2.06-2.06.94z\"/><path d=\"M17.41 7.96l-1.37-1.37c-.4-.4-.92-.59-1.43-.59-.52 0-1.04.2-1.43.59L10.3 9.45l-7.72 7.72c-.78.78-.78 2.05 0 2.83L4 21.41c.39.39.9.59 1.41.59.51 0 1.02-.2 1.41-.59l7.78-7.78 2.81-2.81c.8-.78.8-2.07 0-2.86zM5.41 20L4 18.59l7.72-7.72 1.47 1.35L5.41 20z\"/>\n",
              "  </svg>\n",
              "      </button>\n",
              "      \n",
              "  <style>\n",
              "    .colab-df-container {\n",
              "      display:flex;\n",
              "      flex-wrap:wrap;\n",
              "      gap: 12px;\n",
              "    }\n",
              "\n",
              "    .colab-df-convert {\n",
              "      background-color: #E8F0FE;\n",
              "      border: none;\n",
              "      border-radius: 50%;\n",
              "      cursor: pointer;\n",
              "      display: none;\n",
              "      fill: #1967D2;\n",
              "      height: 32px;\n",
              "      padding: 0 0 0 0;\n",
              "      width: 32px;\n",
              "    }\n",
              "\n",
              "    .colab-df-convert:hover {\n",
              "      background-color: #E2EBFA;\n",
              "      box-shadow: 0px 1px 2px rgba(60, 64, 67, 0.3), 0px 1px 3px 1px rgba(60, 64, 67, 0.15);\n",
              "      fill: #174EA6;\n",
              "    }\n",
              "\n",
              "    [theme=dark] .colab-df-convert {\n",
              "      background-color: #3B4455;\n",
              "      fill: #D2E3FC;\n",
              "    }\n",
              "\n",
              "    [theme=dark] .colab-df-convert:hover {\n",
              "      background-color: #434B5C;\n",
              "      box-shadow: 0px 1px 3px 1px rgba(0, 0, 0, 0.15);\n",
              "      filter: drop-shadow(0px 1px 2px rgba(0, 0, 0, 0.3));\n",
              "      fill: #FFFFFF;\n",
              "    }\n",
              "  </style>\n",
              "\n",
              "      <script>\n",
              "        const buttonEl =\n",
              "          document.querySelector('#df-d324e008-65f2-4696-ac5a-946b6725690a button.colab-df-convert');\n",
              "        buttonEl.style.display =\n",
              "          google.colab.kernel.accessAllowed ? 'block' : 'none';\n",
              "\n",
              "        async function convertToInteractive(key) {\n",
              "          const element = document.querySelector('#df-d324e008-65f2-4696-ac5a-946b6725690a');\n",
              "          const dataTable =\n",
              "            await google.colab.kernel.invokeFunction('convertToInteractive',\n",
              "                                                     [key], {});\n",
              "          if (!dataTable) return;\n",
              "\n",
              "          const docLinkHtml = 'Like what you see? Visit the ' +\n",
              "            '<a target=\"_blank\" href=https://colab.research.google.com/notebooks/data_table.ipynb>data table notebook</a>'\n",
              "            + ' to learn more about interactive tables.';\n",
              "          element.innerHTML = '';\n",
              "          dataTable['output_type'] = 'display_data';\n",
              "          await google.colab.output.renderOutput(dataTable, element);\n",
              "          const docLink = document.createElement('div');\n",
              "          docLink.innerHTML = docLinkHtml;\n",
              "          element.appendChild(docLink);\n",
              "        }\n",
              "      </script>\n",
              "    </div>\n",
              "  </div>\n",
              "  "
            ],
            "text/plain": [
              "                     video_name           tag\n",
              "1                 drowning2.avi      drowning\n",
              "474       v_Rafting_g24_c01.avi       rafting\n",
              "539        v_Rowing_g14_c03.avi        rowing\n",
              "386      v_Kayaking_g20_c01.avi      kayaking\n",
              "618        v_Skijet_g15_c02.avi        jetski\n",
              "318      v_Kayaking_g03_c02.avi      kayaking\n",
              "468       v_Rafting_g21_c02.avi       rafting\n",
              "62   v_BreastStroke_g09_c03.avi  breaststroke\n",
              "640        v_Skijet_g23_c02.avi        jetski\n",
              "266    v_FrontCrawl_g14_c04.avi    frontcrawl"
            ]
          },
          "execution_count": 6,
          "metadata": {},
          "output_type": "execute_result"
        }
      ],
      "source": [
        "train_df = pd.read_csv(trainfilepath)\n",
        "test_df = pd.read_csv(testfilepath)\n",
        "\n",
        "print(f\"Total videos for training: {len(train_df)}\")\n",
        "print(f\"Total videos for testing: {len(test_df)}\")\n",
        "\n",
        "train_df.sample(10)"
      ]
    },
    {
      "cell_type": "markdown",
      "metadata": {
        "id": "kHsbnYb3C0T5"
      },
      "source": [
        "# Data Pipeline"
      ]
    },
    {
      "cell_type": "code",
      "execution_count": null,
      "metadata": {
        "id": "QkRqFQkL8K-8"
      },
      "outputs": [],
      "source": [
        "def crop_center_square(frame):\n",
        "    y, x = frame.shape[0:2]\n",
        "    min_dim = min(y, x)\n",
        "    start_x = (x // 2) - (min_dim // 2)\n",
        "    start_y = (y // 2) - (min_dim // 2)\n",
        "    return frame[start_y : start_y + min_dim, start_x : start_x + min_dim]\n",
        "\n",
        "\n",
        "def load_video(path, max_frames=0, resize=(IMG_SIZE, IMG_SIZE)):\n",
        "    cap = cv2.VideoCapture(path)\n",
        "    frames = []\n",
        "    try:\n",
        "        while True:\n",
        "            ret, frame = cap.read()\n",
        "            if not ret:\n",
        "                break\n",
        "            frame = crop_center_square(frame)\n",
        "            frame = cv2.resize(frame, resize)\n",
        "            frame = frame[:, :, [2, 1, 0]]\n",
        "            frames.append(frame)\n",
        "\n",
        "            if len(frames) == max_frames:\n",
        "                break\n",
        "    finally:\n",
        "        cap.release()\n",
        "    return np.array(frames)"
      ]
    },
    {
      "cell_type": "code",
      "execution_count": null,
      "metadata": {
        "colab": {
          "base_uri": "https://localhost:8080/"
        },
        "id": "XEJg38_39jLM",
        "outputId": "89d56b71-3beb-4108-c6af-6c85962ef714"
      },
      "outputs": [
        {
          "name": "stdout",
          "output_type": "stream",
          "text": [
            "Downloading data from https://storage.googleapis.com/keras-applications/efficientnetb2_notop.h5\n",
            "31793152/31790344 [==============================] - 0s 0us/step\n",
            "31801344/31790344 [==============================] - 0s 0us/step\n"
          ]
        }
      ],
      "source": [
        "def build_feature_extractor():\n",
        "    #feature_extractor = keras.applications.InceptionV3(\n",
        "    feature_extractor = keras.applications.EfficientNetB2(\n",
        "        weights=\"imagenet\",\n",
        "        include_top=False,\n",
        "        pooling=\"avg\",\n",
        "        input_shape=(IMG_SIZE, IMG_SIZE, 3),\n",
        "    )\n",
        "   # preprocess_input = keras.applications.inception_v3.preprocess_input\n",
        "    preprocess_input = keras.applications.efficientnet.preprocess_input\n",
        "\n",
        "    inputs = keras.Input((IMG_SIZE, IMG_SIZE, 3))\n",
        "    preprocessed = preprocess_input(inputs)\n",
        "\n",
        "    outputs = feature_extractor(preprocessed)\n",
        "    return keras.Model(inputs, outputs, name=\"feature_extractor\")\n",
        "\n",
        "\n",
        "feature_extractor = build_feature_extractor()"
      ]
    },
    {
      "cell_type": "code",
      "execution_count": null,
      "metadata": {
        "colab": {
          "base_uri": "https://localhost:8080/"
        },
        "id": "yD0FnRjC-Jjs",
        "outputId": "fe7eaa81-d555-4a76-b643-b4a06fc740d7"
      },
      "outputs": [
        {
          "name": "stdout",
          "output_type": "stream",
          "text": [
            "['breaststroke', 'diving', 'drowning', 'frontcrawl', 'jetski', 'kayaking', 'notdrowning', 'rafting', 'rowing', 'surfing']\n"
          ]
        }
      ],
      "source": [
        "label_processor = keras.layers.StringLookup(\n",
        "    num_oov_indices=0, vocabulary=np.unique(train_df[\"tag\"])\n",
        ")\n",
        "print(label_processor.get_vocabulary())"
      ]
    },
    {
      "cell_type": "code",
      "execution_count": null,
      "metadata": {
        "id": "C77LgqoC-SqE"
      },
      "outputs": [],
      "source": [
        "trainrootdir = (\"./VideosSorted/train\")\n",
        "testrootdir = (\"./VideosSorted/test\")"
      ]
    },
    {
      "cell_type": "markdown",
      "metadata": {
        "id": "LbUrG4tWC3eJ"
      },
      "source": [
        "# Feature Extraction"
      ]
    },
    {
      "cell_type": "code",
      "execution_count": null,
      "metadata": {
        "colab": {
          "base_uri": "https://localhost:8080/"
        },
        "id": "1uova3s3-NwU",
        "outputId": "1179ac03-1ee2-4f0d-c28d-58a3d4752105"
      },
      "outputs": [
        {
          "name": "stderr",
          "output_type": "stream",
          "text": [
            "735it [21:04,  1.72s/it]\n",
            "326it [09:12,  1.70s/it]"
          ]
        },
        {
          "name": "stdout",
          "output_type": "stream",
          "text": [
            "Frame features in train set: (735, 20, 1408)\n",
            "Frame masks in train set: (735, 20)\n"
          ]
        },
        {
          "name": "stderr",
          "output_type": "stream",
          "text": [
            "\n"
          ]
        }
      ],
      "source": [
        "from tqdm import tqdm\n",
        "def prepare_all_videos(df, root_dir):\n",
        "    num_samples = len(df)\n",
        "    video_paths = df[\"video_name\"].values.tolist()\n",
        "    labels = df[\"tag\"].values\n",
        "    labels = label_processor(labels[..., None]).numpy()\n",
        "\n",
        "\n",
        "    frame_masks = np.zeros(shape=(num_samples, MAX_SEQ_LENGTH), dtype=\"bool\")\n",
        "    frame_features = np.zeros(\n",
        "        shape=(num_samples, MAX_SEQ_LENGTH, NUM_FEATURES), dtype=\"float32\"\n",
        "    )\n",
        "\n",
        "    # For each video.\n",
        "    for idx, path in tqdm(enumerate(video_paths)):\n",
        "        # Gather all its frames and add a batch dimension.\n",
        "        frames = load_video(os.path.join(root_dir, path))\n",
        "        frames = frames[None, ...]\n",
        "\n",
        "        # Initialize placeholders to store the masks and features of the current video.\n",
        "        temp_frame_mask = np.zeros(shape=(1, MAX_SEQ_LENGTH,), dtype=\"bool\")\n",
        "        temp_frame_features = np.zeros(\n",
        "            shape=(1, MAX_SEQ_LENGTH, NUM_FEATURES), dtype=\"float32\"\n",
        "        )\n",
        "\n",
        "        # Extract features from the frames of the current video.\n",
        "        for i, batch in enumerate(frames):\n",
        "            video_length = batch.shape[0]\n",
        "            length = min(MAX_SEQ_LENGTH, video_length)\n",
        "            for j in range(length):\n",
        "                temp_frame_features[i, j, :] = feature_extractor.predict(\n",
        "                    batch[None, j, :]\n",
        "                )\n",
        "            temp_frame_mask[i, :length] = 1  # 1 = not masked, 0 = masked\n",
        "\n",
        "        frame_features[idx,] = temp_frame_features.squeeze()\n",
        "        frame_masks[idx,] = temp_frame_mask.squeeze()\n",
        "\n",
        "    return (frame_features, frame_masks), labels\n",
        "\n",
        "\n",
        "train_data, train_labels = prepare_all_videos(train_df, trainrootdir)\n",
        "test_data, test_labels = prepare_all_videos(test_df, testrootdir)\n",
        "\n",
        "print(f\"Frame features in train set: {train_data[0].shape}\")\n",
        "print(f\"Frame masks in train set: {train_data[1].shape}\")"
      ]
    },
    {
      "cell_type": "markdown",
      "metadata": {
        "id": "9HSJiklyC_r_"
      },
      "source": [
        "# GRU Model and Evaluation"
      ]
    },
    {
      "cell_type": "code",
      "execution_count": null,
      "metadata": {
        "id": "ILdzYit3WK2q"
      },
      "outputs": [],
      "source": [
        "IMG_SIZE = 224\n",
        "BATCH_SIZE = 64\n",
        "EPOCHS = 150\n",
        "\n",
        "MAX_SEQ_LENGTH = 20\n",
        "NUM_FEATURES = 2048"
      ]
    },
    {
      "cell_type": "code",
      "execution_count": null,
      "metadata": {
        "id": "1qjjyiNQJWCp"
      },
      "outputs": [],
      "source": [
        "import matplotlib.pyplot as plt\n",
        "from sklearn.metrics import ConfusionMatrixDisplay, cohen_kappa_score, classification_report\n",
        "from sklearn.metrics import confusion_matrix"
      ]
    },
    {
      "cell_type": "code",
      "execution_count": null,
      "metadata": {
        "id": "r7eJmBgLJNdi"
      },
      "outputs": [],
      "source": [
        "reduce_lr = keras.callbacks.ReduceLROnPlateau(monitor='val_loss', factor=0.5,\n",
        "                              patience=10, min_lr=0)"
      ]
    },
    {
      "cell_type": "code",
      "execution_count": null,
      "metadata": {
        "colab": {
          "base_uri": "https://localhost:8080/",
          "height": 1000
        },
        "id": "d2Mlo4awUang",
        "outputId": "0dab7478-ee50-424d-e7ba-3dc7e3b2a1d5"
      },
      "outputs": [
        {
          "name": "stdout",
          "output_type": "stream",
          "text": [
            "Epoch 1/50\n",
            "21/23 [==========================>...] - ETA: 0s - loss: 2.2436 - accuracy: 0.1652\n",
            "Epoch 1: val_loss improved from inf to 2.09920, saving model to /tmp/video_classifier\n",
            "23/23 [==============================] - 9s 107ms/step - loss: 2.2352 - accuracy: 0.1701 - val_loss: 2.0992 - val_accuracy: 0.2669\n",
            "Epoch 2/50\n",
            "21/23 [==========================>...] - ETA: 0s - loss: 2.0638 - accuracy: 0.2277\n",
            "Epoch 2: val_loss improved from 2.09920 to 1.87147, saving model to /tmp/video_classifier\n",
            "23/23 [==============================] - 0s 16ms/step - loss: 2.0524 - accuracy: 0.2340 - val_loss: 1.8715 - val_accuracy: 0.3558\n",
            "Epoch 3/50\n",
            "20/23 [=========================>....] - ETA: 0s - loss: 1.8666 - accuracy: 0.3516\n",
            "Epoch 3: val_loss improved from 1.87147 to 1.67105, saving model to /tmp/video_classifier\n",
            "23/23 [==============================] - 0s 16ms/step - loss: 1.8441 - accuracy: 0.3565 - val_loss: 1.6711 - val_accuracy: 0.5337\n",
            "Epoch 4/50\n",
            "20/23 [=========================>....] - ETA: 0s - loss: 1.6900 - accuracy: 0.4078\n",
            "Epoch 4: val_loss improved from 1.67105 to 1.49122, saving model to /tmp/video_classifier\n",
            "23/23 [==============================] - 0s 17ms/step - loss: 1.6729 - accuracy: 0.4190 - val_loss: 1.4912 - val_accuracy: 0.6166\n",
            "Epoch 5/50\n",
            "20/23 [=========================>....] - ETA: 0s - loss: 1.4797 - accuracy: 0.5297\n",
            "Epoch 5: val_loss improved from 1.49122 to 1.31162, saving model to /tmp/video_classifier\n",
            "23/23 [==============================] - 0s 17ms/step - loss: 1.4889 - accuracy: 0.5156 - val_loss: 1.3116 - val_accuracy: 0.6748\n",
            "Epoch 6/50\n",
            "21/23 [==========================>...] - ETA: 0s - loss: 1.3411 - accuracy: 0.5759\n",
            "Epoch 6: val_loss improved from 1.31162 to 1.16627, saving model to /tmp/video_classifier\n",
            "23/23 [==============================] - 0s 15ms/step - loss: 1.3309 - accuracy: 0.5850 - val_loss: 1.1663 - val_accuracy: 0.7393\n",
            "Epoch 7/50\n",
            "21/23 [==========================>...] - ETA: 0s - loss: 1.2127 - accuracy: 0.5997\n",
            "Epoch 7: val_loss improved from 1.16627 to 1.04005, saving model to /tmp/video_classifier\n",
            "23/23 [==============================] - 0s 15ms/step - loss: 1.2044 - accuracy: 0.6109 - val_loss: 1.0400 - val_accuracy: 0.7423\n",
            "Epoch 8/50\n",
            "19/23 [=======================>......] - ETA: 0s - loss: 1.0943 - accuracy: 0.6530\n",
            "Epoch 8: val_loss improved from 1.04005 to 0.94730, saving model to /tmp/video_classifier\n",
            "23/23 [==============================] - 0s 16ms/step - loss: 1.0764 - accuracy: 0.6612 - val_loss: 0.9473 - val_accuracy: 0.7423\n",
            "Epoch 9/50\n",
            "21/23 [==========================>...] - ETA: 0s - loss: 0.9902 - accuracy: 0.6756\n",
            "Epoch 9: val_loss improved from 0.94730 to 0.86374, saving model to /tmp/video_classifier\n",
            "23/23 [==============================] - 0s 16ms/step - loss: 0.9849 - accuracy: 0.6789 - val_loss: 0.8637 - val_accuracy: 0.7270\n",
            "Epoch 10/50\n",
            "21/23 [==========================>...] - ETA: 0s - loss: 0.9118 - accuracy: 0.6845\n",
            "Epoch 10: val_loss improved from 0.86374 to 0.80781, saving model to /tmp/video_classifier\n",
            "23/23 [==============================] - 0s 16ms/step - loss: 0.9081 - accuracy: 0.6830 - val_loss: 0.8078 - val_accuracy: 0.7761\n",
            "Epoch 11/50\n",
            "21/23 [==========================>...] - ETA: 0s - loss: 0.8585 - accuracy: 0.6964\n",
            "Epoch 11: val_loss improved from 0.80781 to 0.77138, saving model to /tmp/video_classifier\n",
            "23/23 [==============================] - 0s 15ms/step - loss: 0.8655 - accuracy: 0.6884 - val_loss: 0.7714 - val_accuracy: 0.7362\n",
            "Epoch 12/50\n",
            "21/23 [==========================>...] - ETA: 0s - loss: 0.7938 - accuracy: 0.7262\n",
            "Epoch 12: val_loss improved from 0.77138 to 0.70206, saving model to /tmp/video_classifier\n",
            "23/23 [==============================] - 0s 15ms/step - loss: 0.7950 - accuracy: 0.7224 - val_loss: 0.7021 - val_accuracy: 0.7669\n",
            "Epoch 13/50\n",
            "21/23 [==========================>...] - ETA: 0s - loss: 0.7329 - accuracy: 0.7292\n",
            "Epoch 13: val_loss improved from 0.70206 to 0.69843, saving model to /tmp/video_classifier\n",
            "23/23 [==============================] - 0s 16ms/step - loss: 0.7343 - accuracy: 0.7293 - val_loss: 0.6984 - val_accuracy: 0.7761\n",
            "Epoch 14/50\n",
            "21/23 [==========================>...] - ETA: 0s - loss: 0.6973 - accuracy: 0.7455\n",
            "Epoch 14: val_loss improved from 0.69843 to 0.62870, saving model to /tmp/video_classifier\n",
            "23/23 [==============================] - 0s 15ms/step - loss: 0.6925 - accuracy: 0.7442 - val_loss: 0.6287 - val_accuracy: 0.7945\n",
            "Epoch 15/50\n",
            "20/23 [=========================>....] - ETA: 0s - loss: 0.6539 - accuracy: 0.7437\n",
            "Epoch 15: val_loss improved from 0.62870 to 0.62515, saving model to /tmp/video_classifier\n",
            "23/23 [==============================] - 0s 16ms/step - loss: 0.6439 - accuracy: 0.7483 - val_loss: 0.6251 - val_accuracy: 0.8037\n",
            "Epoch 16/50\n",
            "20/23 [=========================>....] - ETA: 0s - loss: 0.6377 - accuracy: 0.7563\n",
            "Epoch 16: val_loss did not improve from 0.62515\n",
            "23/23 [==============================] - 0s 14ms/step - loss: 0.6423 - accuracy: 0.7483 - val_loss: 0.6349 - val_accuracy: 0.7699\n",
            "Epoch 17/50\n",
            "21/23 [==========================>...] - ETA: 0s - loss: 0.5898 - accuracy: 0.7872\n",
            "Epoch 17: val_loss improved from 0.62515 to 0.55396, saving model to /tmp/video_classifier\n",
            "23/23 [==============================] - 0s 15ms/step - loss: 0.5841 - accuracy: 0.7823 - val_loss: 0.5540 - val_accuracy: 0.8252\n",
            "Epoch 18/50\n",
            "21/23 [==========================>...] - ETA: 0s - loss: 0.5465 - accuracy: 0.8229\n",
            "Epoch 18: val_loss improved from 0.55396 to 0.55107, saving model to /tmp/video_classifier\n",
            "23/23 [==============================] - 0s 15ms/step - loss: 0.5483 - accuracy: 0.8218 - val_loss: 0.5511 - val_accuracy: 0.8160\n",
            "Epoch 19/50\n",
            "20/23 [=========================>....] - ETA: 0s - loss: 0.5658 - accuracy: 0.7922\n",
            "Epoch 19: val_loss improved from 0.55107 to 0.52092, saving model to /tmp/video_classifier\n",
            "23/23 [==============================] - 0s 16ms/step - loss: 0.5618 - accuracy: 0.7878 - val_loss: 0.5209 - val_accuracy: 0.8313\n",
            "Epoch 20/50\n",
            "21/23 [==========================>...] - ETA: 0s - loss: 0.5258 - accuracy: 0.8036\n",
            "Epoch 20: val_loss did not improve from 0.52092\n",
            "23/23 [==============================] - 0s 14ms/step - loss: 0.5269 - accuracy: 0.8082 - val_loss: 0.5352 - val_accuracy: 0.8528\n",
            "Epoch 21/50\n",
            "21/23 [==========================>...] - ETA: 0s - loss: 0.5305 - accuracy: 0.8065\n",
            "Epoch 21: val_loss improved from 0.52092 to 0.50443, saving model to /tmp/video_classifier\n",
            "23/23 [==============================] - 0s 15ms/step - loss: 0.5325 - accuracy: 0.8068 - val_loss: 0.5044 - val_accuracy: 0.8742\n",
            "Epoch 22/50\n",
            "20/23 [=========================>....] - ETA: 0s - loss: 0.5207 - accuracy: 0.8125\n",
            "Epoch 22: val_loss did not improve from 0.50443\n",
            "23/23 [==============================] - 0s 15ms/step - loss: 0.5107 - accuracy: 0.8190 - val_loss: 0.5133 - val_accuracy: 0.8681\n",
            "Epoch 23/50\n",
            "21/23 [==========================>...] - ETA: 0s - loss: 0.4909 - accuracy: 0.8289\n",
            "Epoch 23: val_loss improved from 0.50443 to 0.49787, saving model to /tmp/video_classifier\n",
            "23/23 [==============================] - 0s 15ms/step - loss: 0.4780 - accuracy: 0.8395 - val_loss: 0.4979 - val_accuracy: 0.8558\n",
            "Epoch 24/50\n",
            "21/23 [==========================>...] - ETA: 0s - loss: 0.4663 - accuracy: 0.8244\n",
            "Epoch 24: val_loss improved from 0.49787 to 0.44927, saving model to /tmp/video_classifier\n",
            "23/23 [==============================] - 0s 15ms/step - loss: 0.4630 - accuracy: 0.8231 - val_loss: 0.4493 - val_accuracy: 0.8773\n",
            "Epoch 25/50\n",
            "20/23 [=========================>....] - ETA: 0s - loss: 0.4475 - accuracy: 0.8422\n",
            "Epoch 25: val_loss improved from 0.44927 to 0.44377, saving model to /tmp/video_classifier\n",
            "23/23 [==============================] - 0s 15ms/step - loss: 0.4371 - accuracy: 0.8463 - val_loss: 0.4438 - val_accuracy: 0.8865\n",
            "Epoch 26/50\n",
            "21/23 [==========================>...] - ETA: 0s - loss: 0.4287 - accuracy: 0.8318\n",
            "Epoch 26: val_loss did not improve from 0.44377\n",
            "23/23 [==============================] - 0s 14ms/step - loss: 0.4320 - accuracy: 0.8286 - val_loss: 0.4663 - val_accuracy: 0.8681\n",
            "Epoch 27/50\n",
            "21/23 [==========================>...] - ETA: 0s - loss: 0.4035 - accuracy: 0.8571\n",
            "Epoch 27: val_loss did not improve from 0.44377\n",
            "23/23 [==============================] - 0s 14ms/step - loss: 0.4022 - accuracy: 0.8531 - val_loss: 0.4467 - val_accuracy: 0.8865\n",
            "Epoch 28/50\n",
            "20/23 [=========================>....] - ETA: 0s - loss: 0.4580 - accuracy: 0.8313\n",
            "Epoch 28: val_loss did not improve from 0.44377\n",
            "23/23 [==============================] - 0s 14ms/step - loss: 0.4438 - accuracy: 0.8367 - val_loss: 0.4826 - val_accuracy: 0.9172\n",
            "Epoch 29/50\n",
            "20/23 [=========================>....] - ETA: 0s - loss: 0.3995 - accuracy: 0.8469\n",
            "Epoch 29: val_loss did not improve from 0.44377\n",
            "23/23 [==============================] - 0s 14ms/step - loss: 0.4040 - accuracy: 0.8449 - val_loss: 0.5053 - val_accuracy: 0.9018\n",
            "Epoch 30/50\n",
            "21/23 [==========================>...] - ETA: 0s - loss: 0.3804 - accuracy: 0.8467\n",
            "Epoch 30: val_loss did not improve from 0.44377\n",
            "23/23 [==============================] - 0s 14ms/step - loss: 0.3706 - accuracy: 0.8544 - val_loss: 0.4967 - val_accuracy: 0.8926\n",
            "Epoch 31/50\n",
            "20/23 [=========================>....] - ETA: 0s - loss: 0.3722 - accuracy: 0.8609\n",
            "Epoch 31: val_loss did not improve from 0.44377\n",
            "23/23 [==============================] - 0s 14ms/step - loss: 0.3635 - accuracy: 0.8612 - val_loss: 0.4540 - val_accuracy: 0.9080\n",
            "Epoch 32/50\n",
            "21/23 [==========================>...] - ETA: 0s - loss: 0.4017 - accuracy: 0.8393\n",
            "Epoch 32: val_loss did not improve from 0.44377\n",
            "23/23 [==============================] - 0s 14ms/step - loss: 0.3947 - accuracy: 0.8463 - val_loss: 0.4759 - val_accuracy: 0.8988\n",
            "Epoch 33/50\n",
            "21/23 [==========================>...] - ETA: 0s - loss: 0.3839 - accuracy: 0.8557\n",
            "Epoch 33: val_loss improved from 0.44377 to 0.44289, saving model to /tmp/video_classifier\n",
            "23/23 [==============================] - 0s 15ms/step - loss: 0.3795 - accuracy: 0.8612 - val_loss: 0.4429 - val_accuracy: 0.9141\n",
            "Epoch 34/50\n",
            "21/23 [==========================>...] - ETA: 0s - loss: 0.3364 - accuracy: 0.8824\n",
            "Epoch 34: val_loss did not improve from 0.44289\n",
            "23/23 [==============================] - 0s 14ms/step - loss: 0.3461 - accuracy: 0.8789 - val_loss: 0.4592 - val_accuracy: 0.9233\n",
            "Epoch 35/50\n",
            "21/23 [==========================>...] - ETA: 0s - loss: 0.3851 - accuracy: 0.8452\n",
            "Epoch 35: val_loss did not improve from 0.44289\n",
            "23/23 [==============================] - 0s 14ms/step - loss: 0.3698 - accuracy: 0.8503 - val_loss: 0.4946 - val_accuracy: 0.8926\n",
            "Epoch 36/50\n",
            "21/23 [==========================>...] - ETA: 0s - loss: 0.3173 - accuracy: 0.8795\n",
            "Epoch 36: val_loss did not improve from 0.44289\n",
            "23/23 [==============================] - 0s 14ms/step - loss: 0.3130 - accuracy: 0.8803 - val_loss: 0.4695 - val_accuracy: 0.9141\n",
            "Epoch 37/50\n",
            "21/23 [==========================>...] - ETA: 0s - loss: 0.3324 - accuracy: 0.8705\n",
            "Epoch 37: val_loss did not improve from 0.44289\n",
            "23/23 [==============================] - 0s 14ms/step - loss: 0.3315 - accuracy: 0.8707 - val_loss: 0.4746 - val_accuracy: 0.9018\n",
            "Epoch 38/50\n",
            "21/23 [==========================>...] - ETA: 0s - loss: 0.3031 - accuracy: 0.8824\n",
            "Epoch 38: val_loss improved from 0.44289 to 0.42834, saving model to /tmp/video_classifier\n",
            "23/23 [==============================] - 0s 15ms/step - loss: 0.3021 - accuracy: 0.8816 - val_loss: 0.4283 - val_accuracy: 0.9110\n",
            "Epoch 39/50\n",
            "21/23 [==========================>...] - ETA: 0s - loss: 0.3405 - accuracy: 0.8646\n",
            "Epoch 39: val_loss did not improve from 0.42834\n",
            "23/23 [==============================] - 0s 14ms/step - loss: 0.3457 - accuracy: 0.8639 - val_loss: 0.4418 - val_accuracy: 0.9049\n",
            "Epoch 40/50\n",
            "21/23 [==========================>...] - ETA: 0s - loss: 0.3021 - accuracy: 0.8839\n",
            "Epoch 40: val_loss did not improve from 0.42834\n",
            "23/23 [==============================] - 0s 14ms/step - loss: 0.2981 - accuracy: 0.8871 - val_loss: 0.4421 - val_accuracy: 0.8988\n",
            "Epoch 41/50\n",
            "21/23 [==========================>...] - ETA: 0s - loss: 0.3166 - accuracy: 0.8705\n",
            "Epoch 41: val_loss did not improve from 0.42834\n",
            "23/23 [==============================] - 0s 14ms/step - loss: 0.3099 - accuracy: 0.8762 - val_loss: 0.4304 - val_accuracy: 0.8926\n",
            "Epoch 42/50\n",
            "20/23 [=========================>....] - ETA: 0s - loss: 0.3274 - accuracy: 0.8750\n",
            "Epoch 42: val_loss did not improve from 0.42834\n",
            "23/23 [==============================] - 0s 15ms/step - loss: 0.3338 - accuracy: 0.8707 - val_loss: 0.4578 - val_accuracy: 0.8896\n",
            "Epoch 43/50\n",
            "20/23 [=========================>....] - ETA: 0s - loss: 0.3440 - accuracy: 0.8531\n",
            "Epoch 43: val_loss did not improve from 0.42834\n",
            "23/23 [==============================] - 0s 15ms/step - loss: 0.3439 - accuracy: 0.8531 - val_loss: 0.5037 - val_accuracy: 0.8896\n",
            "Epoch 44/50\n",
            "21/23 [==========================>...] - ETA: 0s - loss: 0.3209 - accuracy: 0.8690\n",
            "Epoch 44: val_loss did not improve from 0.42834\n",
            "23/23 [==============================] - 0s 14ms/step - loss: 0.3235 - accuracy: 0.8653 - val_loss: 0.5223 - val_accuracy: 0.8865\n",
            "Epoch 45/50\n",
            "21/23 [==========================>...] - ETA: 0s - loss: 0.3254 - accuracy: 0.8542\n",
            "Epoch 45: val_loss did not improve from 0.42834\n",
            "23/23 [==============================] - 0s 14ms/step - loss: 0.3253 - accuracy: 0.8531 - val_loss: 0.5303 - val_accuracy: 0.8804\n",
            "Epoch 46/50\n",
            "20/23 [=========================>....] - ETA: 0s - loss: 0.3328 - accuracy: 0.8562\n",
            "Epoch 46: val_loss did not improve from 0.42834\n",
            "23/23 [==============================] - 0s 14ms/step - loss: 0.3417 - accuracy: 0.8558 - val_loss: 0.4720 - val_accuracy: 0.8834\n",
            "Epoch 47/50\n",
            "21/23 [==========================>...] - ETA: 0s - loss: 0.3321 - accuracy: 0.8586\n",
            "Epoch 47: val_loss did not improve from 0.42834\n",
            "23/23 [==============================] - 0s 14ms/step - loss: 0.3239 - accuracy: 0.8626 - val_loss: 0.4301 - val_accuracy: 0.8988\n",
            "Epoch 48/50\n",
            "20/23 [=========================>....] - ETA: 0s - loss: 0.2623 - accuracy: 0.8891\n",
            "Epoch 48: val_loss improved from 0.42834 to 0.41283, saving model to /tmp/video_classifier\n",
            "23/23 [==============================] - 0s 16ms/step - loss: 0.2624 - accuracy: 0.8884 - val_loss: 0.4128 - val_accuracy: 0.8988\n",
            "Epoch 49/50\n",
            "20/23 [=========================>....] - ETA: 0s - loss: 0.3018 - accuracy: 0.8766\n",
            "Epoch 49: val_loss did not improve from 0.41283\n",
            "23/23 [==============================] - 0s 15ms/step - loss: 0.3070 - accuracy: 0.8721 - val_loss: 0.4390 - val_accuracy: 0.9202\n",
            "Epoch 50/50\n",
            "21/23 [==========================>...] - ETA: 0s - loss: 0.3168 - accuracy: 0.8661\n",
            "Epoch 50: val_loss did not improve from 0.41283\n",
            "23/23 [==============================] - 0s 14ms/step - loss: 0.3318 - accuracy: 0.8571 - val_loss: 0.4676 - val_accuracy: 0.9110\n",
            "Model: \"model_1\"\n",
            "__________________________________________________________________________________________________\n",
            " Layer (type)                   Output Shape         Param #     Connected to                     \n",
            "==================================================================================================\n",
            " input_5 (InputLayer)           [(None, 20, 1408)]   0           []                               \n",
            "                                                                                                  \n",
            " input_6 (InputLayer)           [(None, 20)]         0           []                               \n",
            "                                                                                                  \n",
            " gru (GRU)                      (None, 20, 16)       68448       ['input_5[0][0]',                \n",
            "                                                                  'input_6[0][0]']                \n",
            "                                                                                                  \n",
            " gru_1 (GRU)                    (None, 8)            624         ['gru[0][0]']                    \n",
            "                                                                                                  \n",
            " dropout_1 (Dropout)            (None, 8)            0           ['gru_1[0][0]']                  \n",
            "                                                                                                  \n",
            " dense_3 (Dense)                (None, 20)           180         ['dropout_1[0][0]']              \n",
            "                                                                                                  \n",
            " dense_4 (Dense)                (None, 10)           210         ['dense_3[0][0]']                \n",
            "                                                                                                  \n",
            " dense_5 (Dense)                (None, 10)           110         ['dense_4[0][0]']                \n",
            "                                                                                                  \n",
            "==================================================================================================\n",
            "Total params: 69,572\n",
            "Trainable params: 69,572\n",
            "Non-trainable params: 0\n",
            "__________________________________________________________________________________________________\n",
            "11/11 [==============================] - 0s 6ms/step - loss: 0.4128 - accuracy: 0.8988\n",
            "Test accuracy: 89.88%\n",
            "Test loss:0.4128290116786957\n",
            "Cohen's Kappa:0.8856565871286602\n",
            "              precision    recall  f1-score   support\n",
            "\n",
            "           0       0.79      0.87      0.83        30\n",
            "           1       0.96      1.00      0.98        48\n",
            "           2       1.00      0.60      0.75        10\n",
            "           3       0.89      0.85      0.87        39\n",
            "           4       0.85      0.93      0.89        30\n",
            "           5       0.83      0.95      0.88        40\n",
            "           6       0.75      1.00      0.86         9\n",
            "           7       0.92      0.82      0.87        40\n",
            "           8       1.00      0.90      0.95        40\n",
            "           9       0.97      0.90      0.94        40\n",
            "\n",
            "    accuracy                           0.90       326\n",
            "   macro avg       0.90      0.88      0.88       326\n",
            "weighted avg       0.91      0.90      0.90       326\n",
            "\n"
          ]
        },
        {
          "data": {
            "image/png": "[encoded data removed]",
            "text/plain": [
              "<Figure size 432x288 with 1 Axes>"
            ]
          },
          "metadata": {
            "needs_background": "light"
          },
          "output_type": "display_data"
        },
        {
          "data": {
            "image/png": "[encoded data removed]",
            "text/plain": [
              "<Figure size 432x288 with 1 Axes>"
            ]
          },
          "metadata": {
            "needs_background": "light"
          },
          "output_type": "display_data"
        },
        {
          "data": {
            "image/png": "[encoded data removed]",
            "text/plain": [
              "<Figure size 432x288 with 2 Axes>"
            ]
          },
          "metadata": {
            "needs_background": "light"
          },
          "output_type": "display_data"
        }
      ],
      "source": [
        "# Utility for our sequence model.\n",
        "def get_sequence_model():\n",
        "    class_vocab = label_processor.get_vocabulary()\n",
        "\n",
        "    frame_features_input = keras.Input((MAX_SEQ_LENGTH, NUM_FEATURES))\n",
        "    mask_input = keras.Input((MAX_SEQ_LENGTH,), dtype=\"bool\")\n",
        "\n",
        "\n",
        "    x = keras.layers.GRU(16, return_sequences=True)(\n",
        "        frame_features_input, mask=mask_input\n",
        "    )\n",
        "    \n",
        "\n",
        "    x = keras.layers.GRU(8)(x)\n",
        "    x = keras.layers.Dropout(0.4)(x)\n",
        "    \n",
        "    x = keras.layers.Dense(20, activation=\"relu\")(x)\n",
        "    x = keras.layers.Dense(10, activation=\"relu\")(x)\n",
        "    output = keras.layers.Dense(len(class_vocab), activation=\"softmax\")(x)\n",
        "\n",
        "    rnn_model = keras.Model([frame_features_input, mask_input], output)\n",
        "\n",
        "    rnn_model.compile(\n",
        "        loss=\"sparse_categorical_crossentropy\", optimizer=\"adam\", metrics=[\"accuracy\"]\n",
        "    )\n",
        "    return rnn_model\n",
        "\n",
        "\n",
        "# Utility for running experiments.\n",
        "def run_experiment():\n",
        "    filepath = \"/tmp/video_classifier\"\n",
        "    checkpoint = keras.callbacks.ModelCheckpoint(\n",
        "        filepath, save_weights_only=True, save_best_only=True, verbose=1\n",
        "    )\n",
        "\n",
        "    seq_model = get_sequence_model()\n",
        "    history = seq_model.fit(\n",
        "        [train_data[0], train_data[1]],\n",
        "        train_labels,\n",
        "        #validation_split=0.3,\n",
        "        validation_data=([test_data[0], test_data[1]], test_labels),\n",
        "        epochs=50,\n",
        "        callbacks=[checkpoint, redcude_lr]\n",
        "    )\n",
        "\n",
        "   \n",
        "   #Plot Graphs\n",
        "    plt.figure(0)\n",
        "    plt.plot(history.history['accuracy'], label='Training accuracy')\n",
        "    plt.plot(history.history['val_accuracy'], label='Val accuracy')\n",
        "    plt.title('Accuracy')\n",
        "    plt.xlabel('Epochs')\n",
        "    plt.ylabel('Accuracy')\n",
        "    plt.legend()\n",
        "\n",
        "    plt.figure(1)\n",
        "    plt.plot(history.history['loss'], label='Training loss')\n",
        "    plt.plot(history.history['val_loss'], label='Val loss')\n",
        "    plt.title('Loss')\n",
        "    plt.xlabel('Epochs')\n",
        "    plt.ylabel('Loss')\n",
        "    plt.legend()\n",
        "    \n",
        "    seq_model.summary()\n",
        "\n",
        "    \n",
        "    #Experiments Summary\n",
        "    seq_model.load_weights(filepath)\n",
        "    model_results = seq_model.evaluate([test_data[0], test_data[1]], test_labels)\n",
        "    print(f\"Test accuracy: {round(model_results[1] * 100, 2)}%\")\n",
        "    print(\"Test loss:\" + str(model_results[0]))\n",
        "    \n",
        "\n",
        "\n",
        "    test_pred = seq_model.predict([test_data[0], test_data[1]])\n",
        "    test_pred = list(np.argmax(test_pred,axis = 1))\n",
        "\n",
        "   \n",
        "    #Cohen's Kappa and F1 Score\n",
        "    ConfusionMatrixDisplay.from_predictions(test_labels, test_pred)\n",
        "\n",
        "    print(\"Cohen's Kappa:\"+str (cohen_kappa_score(test_labels, test_pred)))\n",
        "    print(classification_report(test_labels, test_pred))\n",
        "\n",
        "    return history, seq_model\n",
        "\n",
        "\n",
        "_, sequence_model = run_experiment()"
      ]
    }
  ],
  "metadata": {
    "accelerator": "GPU",
    "colab": {
      "collapsed_sections": [],
      "name": "VideoClassification - CNN Transfer-GRU",
      "provenance": []
    },
    "kernelspec": {
      "display_name": "Python 3",
      "name": "python3"
    },
    "language_info": {
      "name": "python"
    }
  },
  "nbformat": 4,
  "nbformat_minor": 0
}
