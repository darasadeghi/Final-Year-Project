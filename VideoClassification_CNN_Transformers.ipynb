{
  "cells": [
    {
      "cell_type": "markdown",
      "metadata": {
        "id": "0ZeAjXy8j0A3"
      },
      "source": [
        "# Imports"
      ]
    },
    {
      "cell_type": "code",
      "execution_count": null,
      "metadata": {
        "id": "Ee7XR9y2hgE3"
      },
      "outputs": [],
      "source": [
        "!pip install -q git+https://github.com/tensorflow/docs\n"
      ]
    },
    {
      "cell_type": "code",
      "execution_count": null,
      "metadata": {
        "colab": {
          "base_uri": "https://localhost:8080/"
        },
        "id": "G-dcsbe82LjE",
        "outputId": "e767aea9-088b-4c60-a1dd-03e398890d7f"
      },
      "outputs": [
        {
          "name": "stdout",
          "output_type": "stream",
          "text": [
            "Requirement already satisfied: tensorflow-addons in /usr/local/lib/python3.7/dist-packages (0.16.1)\n",
            "Requirement already satisfied: typeguard>=2.7 in /usr/local/lib/python3.7/dist-packages (from tensorflow-addons) (2.7.1)\n"
          ]
        }
      ],
      "source": [
        "pip install tensorflow-addons\n"
      ]
    },
    {
      "cell_type": "code",
      "execution_count": null,
      "metadata": {
        "colab": {
          "base_uri": "https://localhost:8080/"
        },
        "id": "q4A68RnmhofE",
        "outputId": "e4c957c1-a5f1-4101-ab3c-9cc9fe48211d"
      },
      "outputs": [
        {
          "name": "stdout",
          "output_type": "stream",
          "text": [
            "Drive already mounted at /content/gdrive; to attempt to forcibly remount, call drive.mount(\"/content/gdrive\", force_remount=True).\n"
          ]
        }
      ],
      "source": [
        "#from google.colab import drive\n",
        "#drive.mount('/content/gdrive')"
      ]
    },
    {
      "cell_type": "code",
      "execution_count": null,
      "metadata": {
        "id": "5OYNXFCohqfr"
      },
      "outputs": [],
      "source": [
        "from tensorflow_docs.vis import embed\n",
        "from tensorflow import keras\n",
        "from tensorflow.keras import layers\n",
        "from imutils import paths\n",
        "from tqdm import tqdm\n",
        "\n",
        "import tensorflow_addons as tfa\n",
        "\n",
        "import matplotlib.pyplot as plt\n",
        "import tensorflow as tf\n",
        "import pandas as pd\n",
        "import numpy as np\n",
        "import imageio\n",
        "import cv2\n",
        "import os"
      ]
    },
    {
      "cell_type": "code",
      "execution_count": null,
      "metadata": {
        "id": "_FFnkhpXhslc"
      },
      "outputs": [],
      "source": [
        "MAX_SEQ_LENGTH = 20\n",
        "NUM_FEATURES = 1024\n",
        "IMG_SIZE = 128\n"
      ]
    },
    {
      "cell_type": "code",
      "execution_count": null,
      "metadata": {
        "id": "VBEXMEociDUV"
      },
      "outputs": [],
      "source": [
        "#trainfilepath = (\"/content/gdrive/MyDrive/DissertationVideosSorted/train.csv\")\n",
        "#testfilepath = (\"/content/gdrive/MyDrive/DissertationVideosSorted/test.csv\")"
      ]
    },
    {
      "cell_type": "code",
      "execution_count": null,
      "metadata": {},
      "outputs": [],
      "source": [
        "trainfilepath = (\"./VideosSorted/train.csv\")\n",
        "testfilepath = (\"./VideosSorted/test.csv\")"
      ]
    },
    {
      "cell_type": "code",
      "execution_count": null,
      "metadata": {
        "colab": {
          "base_uri": "https://localhost:8080/"
        },
        "id": "WT6z_VjGiCFm",
        "outputId": "80f8c50c-4df0-407c-dda0-8323a3570304"
      },
      "outputs": [
        {
          "name": "stdout",
          "output_type": "stream",
          "text": [
            "Total videos for training: 735\n",
            "Total videos for testing: 326\n"
          ]
        }
      ],
      "source": [
        "train_df = pd.read_csv(trainfilepath)\n",
        "test_df = pd.read_csv(testfilepath)\n",
        "\n",
        "print(f\"Total videos for training: {len(train_df)}\")\n",
        "print(f\"Total videos for testing: {len(test_df)}\")"
      ]
    },
    {
      "cell_type": "markdown",
      "metadata": {
        "id": "0oJoYCDI_ysQ"
      },
      "source": [
        "# Feature Extraction"
      ]
    },
    {
      "cell_type": "code",
      "execution_count": null,
      "metadata": {
        "colab": {
          "base_uri": "https://localhost:8080/"
        },
        "id": "y-6ZqdVuh4hO",
        "outputId": "b468663f-7cf5-47d7-8b51-5c27b8a629a1"
      },
      "outputs": [
        {
          "name": "stdout",
          "output_type": "stream",
          "text": [
            "['breaststroke', 'diving', 'drowning', 'frontcrawl', 'jetski', 'kayaking', 'notdrowning', 'rafting', 'rowing', 'surfing']\n"
          ]
        }
      ],
      "source": [
        "center_crop_layer = layers.CenterCrop(IMG_SIZE, IMG_SIZE)\n",
        "\n",
        "\n",
        "def crop_center(frame):\n",
        "    cropped = center_crop_layer(frame[None, ...])\n",
        "    cropped = cropped.numpy().squeeze()\n",
        "    return cropped\n",
        "\n",
        "\n",
        "# Following method is modified from this tutorial:\n",
        "# https://www.tensorflow.org/hub/tutorials/action_recognition_with_tf_hub\n",
        "def load_video(path, max_frames=0):\n",
        "    cap = cv2.VideoCapture(path)\n",
        "    frames = []\n",
        "    try:\n",
        "        while True:\n",
        "            ret, frame = cap.read()\n",
        "            if not ret:\n",
        "                break\n",
        "            frame = crop_center(frame)\n",
        "            frame = frame[:, :, [2, 1, 0]]\n",
        "            frames.append(frame)\n",
        "\n",
        "            if len(frames) == max_frames:\n",
        "                break\n",
        "    finally:\n",
        "        cap.release()\n",
        "    return np.array(frames)\n",
        "\n",
        "\n",
        "def build_feature_extractor():\n",
        "    feature_extractor = keras.applications.DenseNet121(\n",
        "    #feature_extractor = keras.applications.EfficientNetB0(\n",
        "    #feature_extractor = keras.applications.MobileNet(\n",
        "        weights=\"imagenet\",\n",
        "        include_top=False,\n",
        "        pooling=\"avg\",\n",
        "        input_shape=(IMG_SIZE, IMG_SIZE, 3),\n",
        "    )\n",
        "    #preprocess_input = keras.applications.mobilenet.preprocess_input\n",
        "    preprocess_input = keras.applications.densenet.preprocess_input\n",
        "    #preprocess_input = keras.applications.efficientnet.preprocess_input\n",
        "\n",
        "    inputs = keras.Input((IMG_SIZE, IMG_SIZE, 3))\n",
        "    preprocessed = preprocess_input(inputs)\n",
        "\n",
        "    outputs = feature_extractor(preprocessed)\n",
        "    return keras.Model(inputs, outputs, name=\"feature_extractor\")\n",
        "\n",
        "\n",
        "feature_extractor = build_feature_extractor()\n",
        "\n",
        "\n",
        "# Label preprocessing with StringLookup.\n",
        "label_processor = keras.layers.StringLookup(\n",
        "    num_oov_indices=0, vocabulary=np.unique(train_df[\"tag\"]), mask_token=None\n",
        ")\n",
        "print(label_processor.get_vocabulary())\n",
        "\n",
        "\n",
        "def prepare_all_videos(df, root_dir):\n",
        "    num_samples = len(df)\n",
        "    video_paths = df[\"video_name\"].values.tolist()\n",
        "    labels = df[\"tag\"].values\n",
        "    labels = label_processor(labels[..., None]).numpy()\n",
        "\n",
        "    # `frame_features` are what we will feed to our sequence model.\n",
        "    frame_features = np.zeros(\n",
        "        shape=(num_samples, MAX_SEQ_LENGTH, NUM_FEATURES), dtype=\"float32\"\n",
        "    )\n",
        "\n",
        "    # For each video.\n",
        "    for idx, path in tqdm(enumerate(video_paths)):\n",
        "        # Gather all its frames and add a batch dimension.\n",
        "        frames = load_video(os.path.join(root_dir, path))\n",
        "\n",
        "        # Pad shorter videos.\n",
        "        if len(frames) < MAX_SEQ_LENGTH:\n",
        "            diff = MAX_SEQ_LENGTH - len(frames)\n",
        "            padding = np.zeros((diff, IMG_SIZE, IMG_SIZE, 3))\n",
        "            frames = np.concatenate(frames, padding)\n",
        "\n",
        "        frames = frames[None, ...]\n",
        "\n",
        "        # Initialize placeholder to store the features of the current video.\n",
        "        temp_frame_features = np.zeros(\n",
        "            shape=(1, MAX_SEQ_LENGTH, NUM_FEATURES), dtype=\"float32\"\n",
        "        )\n",
        "\n",
        "        # Extract features from the frames of the current video.\n",
        "        for i, batch in enumerate(frames):\n",
        "            video_length = batch.shape[0]\n",
        "            length = min(MAX_SEQ_LENGTH, video_length)\n",
        "            for j in range(length):\n",
        "                if np.mean(batch[j, :]) > 0.0:\n",
        "                    temp_frame_features[i, j, :] = feature_extractor.predict(\n",
        "                        batch[None, j, :]\n",
        "                    )\n",
        "\n",
        "                else:\n",
        "                    temp_frame_features[i, j, :] = 0.0\n",
        "\n",
        "        frame_features[idx,] = temp_frame_features.squeeze()\n",
        "\n",
        "    return frame_features, labels"
      ]
    },
    {
      "cell_type": "code",
      "execution_count": null,
      "metadata": {
        "id": "JvJNhT15ijHO"
      },
      "outputs": [],
      "source": [
        "#trainrootdir = (\"/content/gdrive/MyDrive/DissertationVideosSorted/train\")\n",
        "#testrootdir = (\"/content/gdrive/MyDrive/DissertationVideosSorted/test\")"
      ]
    },
    {
      "cell_type": "code",
      "execution_count": null,
      "metadata": {
        "id": "JvJNhT15ijHO"
      },
      "outputs": [],
      "source": [
        "trainrootdir = (\"./VideosSorted/train\")\n",
        "testrootdir = (\"./VideosSorted/test\")"
      ]
    },
    {
      "cell_type": "code",
      "execution_count": null,
      "metadata": {
        "colab": {
          "base_uri": "https://localhost:8080/"
        },
        "id": "KRWUfJhQimyl",
        "outputId": "d5288db7-489a-46d8-c837-baa7c6bbd825"
      },
      "outputs": [
        {
          "name": "stderr",
          "output_type": "stream",
          "text": [
            "735it [40:26,  3.30s/it]\n",
            "326it [17:01,  3.13s/it]"
          ]
        },
        {
          "name": "stdout",
          "output_type": "stream",
          "text": [
            "Frame features in train set: (735, 20, 1024)\n"
          ]
        },
        {
          "name": "stderr",
          "output_type": "stream",
          "text": [
            "\n"
          ]
        }
      ],
      "source": [
        "train_data, train_labels = prepare_all_videos(train_df, trainrootdir)\n",
        "test_data, test_labels = prepare_all_videos(test_df, testrootdir)\n",
        "\n",
        "print(f\"Frame features in train set: {train_data.shape}\")"
      ]
    },
    {
      "cell_type": "markdown",
      "metadata": {
        "id": "NWEMptnN_2Gr"
      },
      "source": [
        "# Defining Transformer"
      ]
    },
    {
      "cell_type": "code",
      "execution_count": null,
      "metadata": {
        "id": "Na1N9PgbjQke"
      },
      "outputs": [],
      "source": [
        "class PositionalEmbedding(layers.Layer):\n",
        "    def __init__(self, sequence_length, output_dim, **kwargs):\n",
        "        super().__init__(**kwargs)\n",
        "        self.position_embeddings = layers.Embedding(\n",
        "            input_dim=sequence_length, output_dim=output_dim\n",
        "        )\n",
        "        self.sequence_length = sequence_length\n",
        "        self.output_dim = output_dim\n",
        "\n",
        "    def call(self, inputs):\n",
        "        # The inputs are of shape: `(batch_size, frames, num_features)`\n",
        "        length = tf.shape(inputs)[1]\n",
        "        positions = tf.range(start=0, limit=length, delta=1)\n",
        "        embedded_positions = self.position_embeddings(positions)\n",
        "        return inputs + embedded_positions\n",
        "\n",
        "    def compute_mask(self, inputs, mask=None):\n",
        "        mask = tf.reduce_any(tf.cast(inputs, \"bool\"), axis=-1)\n",
        "        return mask"
      ]
    },
    {
      "cell_type": "code",
      "execution_count": null,
      "metadata": {
        "id": "RWweUOM2k6xy"
      },
      "outputs": [],
      "source": [
        "class TransformerEncoder(layers.Layer):\n",
        "    def __init__(self, embed_dim, dense_dim, num_heads, **kwargs):\n",
        "        super().__init__(**kwargs)\n",
        "        self.embed_dim = embed_dim\n",
        "        self.dense_dim = dense_dim\n",
        "        self.num_heads = num_heads\n",
        "        self.attention = layers.MultiHeadAttention(\n",
        "            num_heads=num_heads, key_dim=embed_dim, dropout=0.3\n",
        "        )\n",
        "        self.dense_proj = keras.Sequential(\n",
        "            [layers.Dense(dense_dim, activation=tf.nn.gelu), layers.Dense(embed_dim),]\n",
        "        )\n",
        "        self.layernorm_1 = layers.LayerNormalization()\n",
        "        self.layernorm_2 = layers.LayerNormalization()\n",
        "\n",
        "    def call(self, inputs, mask=None):\n",
        "        if mask is not None:\n",
        "            mask = mask[:, tf.newaxis, :]\n",
        "\n",
        "        attention_output = self.attention(inputs, inputs, attention_mask=mask)\n",
        "        proj_input = self.layernorm_1(inputs + attention_output)\n",
        "        proj_output = self.dense_proj(proj_input)\n",
        "        return self.layernorm_2(proj_input + proj_output)"
      ]
    },
    {
      "cell_type": "code",
      "execution_count": null,
      "metadata": {
        "id": "MkxU6a16b-AU"
      },
      "outputs": [],
      "source": [
        "import matplotlib.pyplot as plt\n",
        "from sklearn.metrics import ConfusionMatrixDisplay\n",
        "from sklearn.metrics import confusion_matrix, cohen_kappa_score, classification_report"
      ]
    },
    {
      "cell_type": "code",
      "execution_count": null,
      "metadata": {
        "id": "ZbG3aQIU1WG8"
      },
      "outputs": [],
      "source": [
        "from tensorflow_addons import metrics\n",
        "from tensorflow_addons import losses\n",
        "from sklearn.metrics import confusion_matrix\n"
      ]
    },
    {
      "cell_type": "code",
      "execution_count": null,
      "metadata": {
        "id": "JO1o00RtLZqL"
      },
      "outputs": [],
      "source": [
        "reduce_lr = keras.callbacks.ReduceLROnPlateau(monitor='val_loss', factor=0.5,\n",
        "                              patience=10, min_lr=0)\n",
        "earlystop = keras.callbacks.EarlyStopping(monitor='val_loss', patience=15)\n",
        "\n",
        "lr=keras.optimizers.schedules.ExponentialDecay(initial_learning_rate=0.01, decay_steps=1000,  decay_rate=0.9, staircase=1)"
      ]
    },
    {
      "cell_type": "markdown",
      "metadata": {
        "id": "QTJxbLyj_9xe"
      },
      "source": [
        "# Compiling final model and evaluations"
      ]
    },
    {
      "cell_type": "code",
      "execution_count": null,
      "metadata": {
        "colab": {
          "base_uri": "https://localhost:8080/",
          "height": 1000
        },
        "id": "aSkxkpJ6k7Yy",
        "outputId": "2c7b6e9b-969f-451c-c976-74cdc133e92b"
      },
      "outputs": [
        {
          "name": "stdout",
          "output_type": "stream",
          "text": [
            "Epoch 1/50\n",
            "22/23 [===========================>..] - ETA: 0s - loss: 4.2509 - accuracy: 0.3097\n",
            "Epoch 1: val_loss improved from inf to 1.69514, saving model to /tmp/video_classifier\n",
            "23/23 [==============================] - 3s 47ms/step - loss: 4.1918 - accuracy: 0.3143 - val_loss: 1.6951 - val_accuracy: 0.5307\n",
            "Epoch 2/50\n",
            "22/23 [===========================>..] - ETA: 0s - loss: 2.0404 - accuracy: 0.5142\n",
            "Epoch 2: val_loss improved from 1.69514 to 0.97268, saving model to /tmp/video_classifier\n",
            "23/23 [==============================] - 1s 29ms/step - loss: 2.0544 - accuracy: 0.5129 - val_loss: 0.9727 - val_accuracy: 0.7117\n",
            "Epoch 3/50\n",
            "22/23 [===========================>..] - ETA: 0s - loss: 1.4683 - accuracy: 0.5923\n",
            "Epoch 3: val_loss improved from 0.97268 to 0.70884, saving model to /tmp/video_classifier\n",
            "23/23 [==============================] - 1s 29ms/step - loss: 1.4398 - accuracy: 0.6014 - val_loss: 0.7088 - val_accuracy: 0.7761\n",
            "Epoch 4/50\n",
            "22/23 [===========================>..] - ETA: 0s - loss: 1.3738 - accuracy: 0.6477\n",
            "Epoch 4: val_loss improved from 0.70884 to 0.64957, saving model to /tmp/video_classifier\n",
            "23/23 [==============================] - 1s 30ms/step - loss: 1.3724 - accuracy: 0.6463 - val_loss: 0.6496 - val_accuracy: 0.7914\n",
            "Epoch 5/50\n",
            "23/23 [==============================] - ETA: 0s - loss: 1.0167 - accuracy: 0.7116\n",
            "Epoch 5: val_loss improved from 0.64957 to 0.49475, saving model to /tmp/video_classifier\n",
            "23/23 [==============================] - 1s 31ms/step - loss: 1.0167 - accuracy: 0.7116 - val_loss: 0.4947 - val_accuracy: 0.8313\n",
            "Epoch 6/50\n",
            "22/23 [===========================>..] - ETA: 0s - loss: 0.7758 - accuracy: 0.7528\n",
            "Epoch 6: val_loss did not improve from 0.49475\n",
            "23/23 [==============================] - 1s 25ms/step - loss: 0.7883 - accuracy: 0.7524 - val_loss: 0.6135 - val_accuracy: 0.8006\n",
            "Epoch 7/50\n",
            "22/23 [===========================>..] - ETA: 0s - loss: 0.6749 - accuracy: 0.7841\n",
            "Epoch 7: val_loss improved from 0.49475 to 0.46365, saving model to /tmp/video_classifier\n",
            "23/23 [==============================] - 1s 29ms/step - loss: 0.6735 - accuracy: 0.7810 - val_loss: 0.4637 - val_accuracy: 0.8650\n",
            "Epoch 8/50\n",
            "22/23 [===========================>..] - ETA: 0s - loss: 0.5227 - accuracy: 0.8153\n",
            "Epoch 8: val_loss improved from 0.46365 to 0.43321, saving model to /tmp/video_classifier\n",
            "23/23 [==============================] - 1s 31ms/step - loss: 0.5272 - accuracy: 0.8122 - val_loss: 0.4332 - val_accuracy: 0.8681\n",
            "Epoch 9/50\n",
            "22/23 [===========================>..] - ETA: 0s - loss: 0.5057 - accuracy: 0.8281\n",
            "Epoch 9: val_loss improved from 0.43321 to 0.41621, saving model to /tmp/video_classifier\n",
            "23/23 [==============================] - 1s 34ms/step - loss: 0.4956 - accuracy: 0.8313 - val_loss: 0.4162 - val_accuracy: 0.8497\n",
            "Epoch 10/50\n",
            "23/23 [==============================] - ETA: 0s - loss: 0.4510 - accuracy: 0.8354\n",
            "Epoch 10: val_loss did not improve from 0.41621\n",
            "23/23 [==============================] - 1s 22ms/step - loss: 0.4510 - accuracy: 0.8354 - val_loss: 0.4351 - val_accuracy: 0.8681\n",
            "Epoch 11/50\n",
            "22/23 [===========================>..] - ETA: 0s - loss: 0.3868 - accuracy: 0.8665\n",
            "Epoch 11: val_loss did not improve from 0.41621\n",
            "23/23 [==============================] - 1s 23ms/step - loss: 0.3867 - accuracy: 0.8653 - val_loss: 0.5715 - val_accuracy: 0.8129\n",
            "Epoch 12/50\n",
            "22/23 [===========================>..] - ETA: 0s - loss: 0.4195 - accuracy: 0.8651\n",
            "Epoch 12: val_loss improved from 0.41621 to 0.36346, saving model to /tmp/video_classifier\n",
            "23/23 [==============================] - 1s 30ms/step - loss: 0.4040 - accuracy: 0.8707 - val_loss: 0.3635 - val_accuracy: 0.8865\n",
            "Epoch 13/50\n",
            "22/23 [===========================>..] - ETA: 0s - loss: 0.3355 - accuracy: 0.8807\n",
            "Epoch 13: val_loss did not improve from 0.36346\n",
            "23/23 [==============================] - 1s 23ms/step - loss: 0.3359 - accuracy: 0.8816 - val_loss: 0.4865 - val_accuracy: 0.8681\n",
            "Epoch 14/50\n",
            "23/23 [==============================] - ETA: 0s - loss: 0.2901 - accuracy: 0.8898\n",
            "Epoch 14: val_loss did not improve from 0.36346\n",
            "23/23 [==============================] - 1s 23ms/step - loss: 0.2901 - accuracy: 0.8898 - val_loss: 0.4023 - val_accuracy: 0.8742\n",
            "Epoch 15/50\n",
            "22/23 [===========================>..] - ETA: 0s - loss: 0.3102 - accuracy: 0.8892\n",
            "Epoch 15: val_loss did not improve from 0.36346\n",
            "23/23 [==============================] - 1s 23ms/step - loss: 0.3163 - accuracy: 0.8884 - val_loss: 0.3977 - val_accuracy: 0.8804\n",
            "Epoch 16/50\n",
            "22/23 [===========================>..] - ETA: 0s - loss: 0.2544 - accuracy: 0.9148\n",
            "Epoch 16: val_loss did not improve from 0.36346\n",
            "23/23 [==============================] - 1s 23ms/step - loss: 0.2495 - accuracy: 0.9156 - val_loss: 0.3925 - val_accuracy: 0.8773\n",
            "Epoch 17/50\n",
            "23/23 [==============================] - ETA: 0s - loss: 0.3169 - accuracy: 0.8898\n",
            "Epoch 17: val_loss did not improve from 0.36346\n",
            "23/23 [==============================] - 1s 23ms/step - loss: 0.3169 - accuracy: 0.8898 - val_loss: 0.4731 - val_accuracy: 0.8589\n",
            "Epoch 18/50\n",
            "22/23 [===========================>..] - ETA: 0s - loss: 0.2067 - accuracy: 0.9233\n",
            "Epoch 18: val_loss did not improve from 0.36346\n",
            "23/23 [==============================] - 1s 25ms/step - loss: 0.2070 - accuracy: 0.9238 - val_loss: 0.4777 - val_accuracy: 0.8558\n",
            "Epoch 19/50\n",
            "22/23 [===========================>..] - ETA: 0s - loss: 0.2785 - accuracy: 0.9006\n",
            "Epoch 19: val_loss improved from 0.36346 to 0.33720, saving model to /tmp/video_classifier\n",
            "23/23 [==============================] - 1s 32ms/step - loss: 0.2790 - accuracy: 0.8993 - val_loss: 0.3372 - val_accuracy: 0.8957\n",
            "Epoch 20/50\n",
            "22/23 [===========================>..] - ETA: 0s - loss: 0.1712 - accuracy: 0.9318\n",
            "Epoch 20: val_loss did not improve from 0.33720\n",
            "23/23 [==============================] - 1s 26ms/step - loss: 0.1720 - accuracy: 0.9306 - val_loss: 0.4708 - val_accuracy: 0.8650\n",
            "Epoch 21/50\n",
            "22/23 [===========================>..] - ETA: 0s - loss: 0.1847 - accuracy: 0.9375\n",
            "Epoch 21: val_loss did not improve from 0.33720\n",
            "23/23 [==============================] - 1s 23ms/step - loss: 0.1889 - accuracy: 0.9347 - val_loss: 0.3991 - val_accuracy: 0.8773\n",
            "Epoch 22/50\n",
            "22/23 [===========================>..] - ETA: 0s - loss: 0.2120 - accuracy: 0.9318\n",
            "Epoch 22: val_loss did not improve from 0.33720\n",
            "23/23 [==============================] - 1s 23ms/step - loss: 0.2044 - accuracy: 0.9347 - val_loss: 0.3628 - val_accuracy: 0.8834\n",
            "Epoch 23/50\n",
            "22/23 [===========================>..] - ETA: 0s - loss: 0.1829 - accuracy: 0.9290\n",
            "Epoch 23: val_loss did not improve from 0.33720\n",
            "23/23 [==============================] - 1s 26ms/step - loss: 0.1824 - accuracy: 0.9279 - val_loss: 0.3879 - val_accuracy: 0.8926\n",
            "Epoch 24/50\n",
            "21/23 [==========================>...] - ETA: 0s - loss: 0.1600 - accuracy: 0.9420\n",
            "Epoch 24: val_loss improved from 0.33720 to 0.31583, saving model to /tmp/video_classifier\n",
            "23/23 [==============================] - 1s 31ms/step - loss: 0.1622 - accuracy: 0.9415 - val_loss: 0.3158 - val_accuracy: 0.9141\n",
            "Epoch 25/50\n",
            "23/23 [==============================] - ETA: 0s - loss: 0.1670 - accuracy: 0.9442\n",
            "Epoch 25: val_loss did not improve from 0.31583\n",
            "23/23 [==============================] - 1s 26ms/step - loss: 0.1670 - accuracy: 0.9442 - val_loss: 0.4250 - val_accuracy: 0.8865\n",
            "Epoch 26/50\n",
            "22/23 [===========================>..] - ETA: 0s - loss: 0.1431 - accuracy: 0.9418\n",
            "Epoch 26: val_loss did not improve from 0.31583\n",
            "23/23 [==============================] - 1s 23ms/step - loss: 0.1388 - accuracy: 0.9429 - val_loss: 0.3716 - val_accuracy: 0.8957\n",
            "Epoch 27/50\n",
            "22/23 [===========================>..] - ETA: 0s - loss: 0.1321 - accuracy: 0.9517\n",
            "Epoch 27: val_loss did not improve from 0.31583\n",
            "23/23 [==============================] - 1s 23ms/step - loss: 0.1385 - accuracy: 0.9510 - val_loss: 0.3558 - val_accuracy: 0.9018\n",
            "Epoch 28/50\n",
            "22/23 [===========================>..] - ETA: 0s - loss: 0.1336 - accuracy: 0.9474\n",
            "Epoch 28: val_loss did not improve from 0.31583\n",
            "23/23 [==============================] - 1s 23ms/step - loss: 0.1320 - accuracy: 0.9469 - val_loss: 0.3711 - val_accuracy: 0.9018\n",
            "Epoch 29/50\n",
            "22/23 [===========================>..] - ETA: 0s - loss: 0.1584 - accuracy: 0.9375\n",
            "Epoch 29: val_loss did not improve from 0.31583\n",
            "23/23 [==============================] - 1s 23ms/step - loss: 0.1566 - accuracy: 0.9388 - val_loss: 0.3434 - val_accuracy: 0.8957\n",
            "Epoch 30/50\n",
            "23/23 [==============================] - ETA: 0s - loss: 0.1198 - accuracy: 0.9646\n",
            "Epoch 30: val_loss did not improve from 0.31583\n",
            "23/23 [==============================] - 1s 25ms/step - loss: 0.1198 - accuracy: 0.9646 - val_loss: 0.3737 - val_accuracy: 0.8926\n",
            "Epoch 31/50\n",
            "23/23 [==============================] - ETA: 0s - loss: 0.1227 - accuracy: 0.9497\n",
            "Epoch 31: val_loss did not improve from 0.31583\n",
            "23/23 [==============================] - 1s 23ms/step - loss: 0.1227 - accuracy: 0.9497 - val_loss: 0.3404 - val_accuracy: 0.9080\n",
            "Epoch 32/50\n",
            "22/23 [===========================>..] - ETA: 0s - loss: 0.1399 - accuracy: 0.9517\n",
            "Epoch 32: val_loss did not improve from 0.31583\n",
            "23/23 [==============================] - 1s 23ms/step - loss: 0.1381 - accuracy: 0.9524 - val_loss: 0.3484 - val_accuracy: 0.8804\n",
            "Epoch 33/50\n",
            "22/23 [===========================>..] - ETA: 0s - loss: 0.1067 - accuracy: 0.9631\n",
            "Epoch 33: val_loss did not improve from 0.31583\n",
            "23/23 [==============================] - 1s 23ms/step - loss: 0.1058 - accuracy: 0.9633 - val_loss: 0.3972 - val_accuracy: 0.8804\n",
            "Epoch 34/50\n",
            "22/23 [===========================>..] - ETA: 0s - loss: 0.0826 - accuracy: 0.9730\n",
            "Epoch 34: val_loss did not improve from 0.31583\n",
            "23/23 [==============================] - 1s 23ms/step - loss: 0.0803 - accuracy: 0.9741 - val_loss: 0.3297 - val_accuracy: 0.9018\n",
            "Epoch 35/50\n",
            "20/23 [=========================>....] - ETA: 0s - loss: 0.1180 - accuracy: 0.9609\n",
            "Epoch 35: val_loss did not improve from 0.31583\n",
            "23/23 [==============================] - 1s 23ms/step - loss: 0.1098 - accuracy: 0.9633 - val_loss: 0.4100 - val_accuracy: 0.8896\n",
            "Epoch 36/50\n",
            "22/23 [===========================>..] - ETA: 0s - loss: 0.1220 - accuracy: 0.9574\n",
            "Epoch 36: val_loss did not improve from 0.31583\n",
            "23/23 [==============================] - 1s 23ms/step - loss: 0.1204 - accuracy: 0.9578 - val_loss: 0.3889 - val_accuracy: 0.8926\n",
            "Epoch 37/50\n",
            "22/23 [===========================>..] - ETA: 0s - loss: 0.0918 - accuracy: 0.9645\n",
            "Epoch 37: val_loss did not improve from 0.31583\n",
            "23/23 [==============================] - 1s 24ms/step - loss: 0.0925 - accuracy: 0.9646 - val_loss: 0.4128 - val_accuracy: 0.8773\n",
            "Epoch 38/50\n",
            "22/23 [===========================>..] - ETA: 0s - loss: 0.0952 - accuracy: 0.9574\n",
            "Epoch 38: val_loss did not improve from 0.31583\n",
            "23/23 [==============================] - 1s 23ms/step - loss: 0.1003 - accuracy: 0.9565 - val_loss: 0.4306 - val_accuracy: 0.8865\n",
            "Epoch 39/50\n",
            "22/23 [===========================>..] - ETA: 0s - loss: 0.0972 - accuracy: 0.9673\n",
            "Epoch 39: val_loss did not improve from 0.31583\n",
            "23/23 [==============================] - 1s 23ms/step - loss: 0.0967 - accuracy: 0.9660 - val_loss: 0.3764 - val_accuracy: 0.8865\n",
            "11/11 [==============================] - 0s 10ms/step - loss: 0.3158 - accuracy: 0.9141\n",
            "Test accuracy: 91.41%\n",
            "Test loss:0.31582993268966675\n",
            "Cohen's Kappa:0.9028202152689797\n",
            "              precision    recall  f1-score   support\n",
            "\n",
            "           0       0.93      0.87      0.90        30\n",
            "           1       0.92      1.00      0.96        48\n",
            "           2       1.00      1.00      1.00        10\n",
            "           3       0.86      0.92      0.89        39\n",
            "           4       0.89      0.80      0.84        30\n",
            "           5       0.90      0.93      0.91        40\n",
            "           6       1.00      0.78      0.88         9\n",
            "           7       0.92      0.90      0.91        40\n",
            "           8       0.97      0.88      0.92        40\n",
            "           9       0.89      0.97      0.93        40\n",
            "\n",
            "    accuracy                           0.91       326\n",
            "   macro avg       0.93      0.90      0.91       326\n",
            "weighted avg       0.92      0.91      0.91       326\n",
            "\n"
          ]
        },
        {
          "data": {
            "image/png": "[encoded data removed]",
            "text/plain": [
              "<Figure size 432x288 with 1 Axes>"
            ]
          },
          "metadata": {
            "needs_background": "light"
          },
          "output_type": "display_data"
        },
        {
          "data": {
            "image/png": "[encoded data removed]",
            "text/plain": [
              "<Figure size 432x288 with 1 Axes>"
            ]
          },
          "metadata": {
            "needs_background": "light"
          },
          "output_type": "display_data"
        },
        {
          "data": {
            "image/png": "[encoded data removed]",
            "text/plain": [
              "<Figure size 432x288 with 2 Axes>"
            ]
          },
          "metadata": {
            "needs_background": "light"
          },
          "output_type": "display_data"
        }
      ],
      "source": [
        "def get_compiled_model():\n",
        "    sequence_length = MAX_SEQ_LENGTH\n",
        "    embed_dim = NUM_FEATURES\n",
        "    dense_dim = 3\n",
        "    num_heads = 3\n",
        "    classes = len(label_processor.get_vocabulary())\n",
        "\n",
        "    inputs = keras.Input(shape=(None, None))\n",
        "    x = PositionalEmbedding(\n",
        "        sequence_length, embed_dim, name=\"frame_position_embedding\"\n",
        "    )(inputs)\n",
        "    x = TransformerEncoder(embed_dim, dense_dim, num_heads, name=\"transformer_layer\")(x)\n",
        "   \n",
        "    \n",
        "    x = layers.GlobalMaxPooling1D()(x)\n",
        "\n",
        "\n",
        "    x = layers.Dropout(0.7)(x)\n",
        "    outputs = layers.Dense(classes, activation=\"softmax\")(x)\n",
        "    model = keras.Model(inputs, outputs)\n",
        "\n",
        "    model.compile(\n",
        "        optimizer= \"SGD\", loss=\"sparse_categorical_crossentropy\", metrics=[\"accuracy\"]\n",
        "    )\n",
        "    return model\n",
        "\n",
        "\n",
        "def run_experiment():\n",
        "    filepath = \"/tmp/video_classifier\"\n",
        "    checkpoint = keras.callbacks.ModelCheckpoint(\n",
        "        filepath, save_weights_only=True, save_best_only=True, verbose=1,\n",
        "    )\n",
        "    \n",
        "    \n",
        "\n",
        "    model = get_compiled_model()\n",
        "    history = model.fit(\n",
        "        train_data,\n",
        "        train_labels,\n",
        "        validation_data=(test_data, test_labels),\n",
        "        epochs=50,\n",
        "        callbacks=[checkpoint, earlystop]\n",
        "    )\n",
        "\n",
        "\n",
        "    #Plot Graphs\n",
        "    plt.figure(0)\n",
        "    plt.plot(history.history['accuracy'], label='Training accuracy')\n",
        "    plt.plot(history.history['val_accuracy'], label='Val accuracy')\n",
        "    plt.title('Accuracy')\n",
        "    plt.xlabel('Epochs')\n",
        "    plt.ylabel('Accuracy')\n",
        "    plt.legend()\n",
        "\n",
        "    plt.figure(1)\n",
        "    plt.plot(history.history['loss'], label='Training loss')\n",
        "    plt.plot(history.history['val_loss'], label='Val loss')\n",
        "    plt.title('Loss')\n",
        "    plt.xlabel('Epochs')\n",
        "    plt.ylabel('Loss')\n",
        "    plt.legend()\n",
        "\n",
        "   \n",
        "\n",
        "\n",
        "\n",
        "\n",
        "\n",
        "\n",
        "    #Experiments Summary\n",
        "    model.load_weights(filepath)\n",
        "    model_results = model.evaluate(test_data, test_labels)\n",
        "    print(f\"Test accuracy: {round(model_results[1] * 100, 2)}%\")\n",
        "    print(\"Test loss:\" + str(model_results[0]))\n",
        "    \n",
        "\n",
        "\n",
        "    test_pred = model.predict(test_data)\n",
        "    test_pred = list(np.argmax(test_pred,axis = 1))\n",
        "\n",
        "   \n",
        "    #Cohen's Kappa and F1 Score\n",
        "    labels = label_processor.get_vocabulary()\n",
        "    ConfusionMatrixDisplay.from_predictions(test_labels, test_pred)\n",
        "\n",
        "    print(\"Cohen's Kappa:\"+str (cohen_kappa_score(test_labels, test_pred)))\n",
        "    print(classification_report(test_labels, test_pred))\n",
        "    \n",
        "\n",
        "\n",
        "\n",
        "    return model\n",
        "trained_model = run_experiment()"
      ]
    }
  ],
  "metadata": {
    "accelerator": "GPU",
    "colab": {
      "collapsed_sections": [],
      "name": "VideoClassification - CNN-Transformers.ipynb",
      "provenance": []
    },
    "kernelspec": {
      "display_name": "Python 3",
      "name": "python3"
    },
    "language_info": {
      "name": "python"
    }
  },
  "nbformat": 4,
  "nbformat_minor": 0
}
